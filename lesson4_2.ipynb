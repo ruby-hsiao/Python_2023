{
 "cells": [
  {
   "cell_type": "code",
   "execution_count": null,
   "metadata": {},
   "outputs": [],
   "source": [
    "import pyinputplus as pyip"
   ]
  },
  {
   "cell_type": "code",
   "execution_count": 7,
   "metadata": {},
   "outputs": [
    {
     "name": "stdout",
     "output_type": "stream",
     "text": [
      "Input scores(max 300):250\n",
      "Qualify to add scores?(y or n)Final scores:250\n"
     ]
    }
   ],
   "source": [
    "\n",
    "scores = pyip.inputNum(prompt='Input scores(max 300):', min=0, max=300)\n",
    "print(scores)\n",
    "is_add = pyip.inputYesNo(prompt='Qualify to add scores?(y or n)', yesVal='y', noVal='n', blank=True, default='n')\n",
    "\n",
    "# loop condition\n",
    "if is_add == \"y\":\n",
    "    scores *= 1.05\n",
    "    if scores > 300:\n",
    "        scores = 300\n",
    "    \n",
    "print(f\"Final scores:{scores}\")"
   ]
  },
  {
   "cell_type": "code",
   "execution_count": 8,
   "metadata": {},
   "outputs": [
    {
     "name": "stdout",
     "output_type": "stream",
     "text": [
      "Help on function inputYesNo in module pyinputplus:\n",
      "\n",
      "inputYesNo(prompt='', yesVal='yes', noVal='no', caseSensitive=False, default=None, blank=False, timeout=None, limit=None, strip=None, allowRegexes=None, blockRegexes=None, applyFunc=None, postValidateApplyFunc=None)\n",
      "    Prompts the user to enter a yes/no response.\n",
      "    The user can also enter y/n and use any case.\n",
      "    Returns the ``yesVal`` or ``noVal`` argument (which default to ``'yes'`` and ``'no'``), depending on the user's selection.\n",
      "    \n",
      "    Run ``help(pyinputplus.parameters)`` for an explanation of the common parameters.\n",
      "    \n",
      "    >>> import pyinputplus as pyip\n",
      "    >>> response = pyip.inputYesNo()\n",
      "    yes\n",
      "    >>> response\n",
      "    'yes'\n",
      "    >>> response = pyip.inputYesNo()\n",
      "    NO\n",
      "    >>> response\n",
      "    'no'\n",
      "    >>> response = pyip.inputYesNo()\n",
      "    Y\n",
      "    >>> response\n",
      "    'yes'\n",
      "    >>> response = pyip.inputYesNo(yesVal='oui', noVal='no')\n",
      "    oui\n",
      "    >>> response\n",
      "    'oui'\n",
      "\n"
     ]
    }
   ],
   "source": [
    "#查 func 說明書\n",
    "help(pyip.inputYesNo)"
   ]
  }
 ],
 "metadata": {
  "kernelspec": {
   "display_name": "Python 3",
   "language": "python",
   "name": "python3"
  },
  "language_info": {
   "codemirror_mode": {
    "name": "ipython",
    "version": 3
   },
   "file_extension": ".py",
   "mimetype": "text/x-python",
   "name": "python",
   "nbconvert_exporter": "python",
   "pygments_lexer": "ipython3",
   "version": "3.10.13"
  }
 },
 "nbformat": 4,
 "nbformat_minor": 2
}
