{
 "cells": [
  {
   "cell_type": "code",
   "execution_count": 1,
   "metadata": {},
   "outputs": [
    {
     "name": "stdout",
     "output_type": "stream",
     "text": [
      "Hello! Python!!\n",
      "Hello! Python!!\n"
     ]
    }
   ],
   "source": [
    "#建立一個function\n",
    "#沒有參數,沒有傳出值的function,靈活性最差\n",
    "def sayHello():\n",
    "    print(\"Hello! Python!!\")\n",
    "\n",
    "\n",
    "sayHello()\n",
    "sayHello()"
   ]
  },
  {
   "cell_type": "code",
   "execution_count": 3,
   "metadata": {},
   "outputs": [
    {
     "name": "stdout",
     "output_type": "stream",
     "text": [
      "Hello Ruby!\n",
      "Hello Jack!\n"
     ]
    }
   ],
   "source": [
    "#Python(.py) 不能有相同名稱的function, 即使function參數不同也不可以\n",
    "#參數的function\n",
    "def sayHello(name):\n",
    "    userName = name\n",
    "    print(f\"Hello {userName}!\")\n",
    "\n",
    "sayHello(\"Ruby\") #function 呼叫完, 裡面記憶體區塊, 變數userName, 參數name等都會消滅\n",
    "sayHello(\"Jack\") #必須搞清楚函式的生命週期\n"
   ]
  },
  {
   "cell_type": "code",
   "execution_count": 10,
   "metadata": {},
   "outputs": [
    {
     "name": "stdout",
     "output_type": "stream",
     "text": [
      "Hello Ruby! 你10歲是少年。\n",
      "Hello Robert! 你40歲是老年。\n"
     ]
    }
   ],
   "source": [
    "def sayHello(name, age):\n",
    "    if age < 18:\n",
    "        alias = \"少年\"\n",
    "    elif age < 30:\n",
    "        alias = \"中年\"\n",
    "    elif age < 40:\n",
    "        alias = \"壯年\"\n",
    "    else:\n",
    "        alias = \"老年\"        \n",
    "    print(f\"Hello {name}! 你{age}歲是{alias}。\")    \n",
    "\n",
    "#引數值的呼叫必須照順序\n",
    "sayHello(\"Ruby\", 10)\n",
    "sayHello(\"Robert\", 40)"
   ]
  }
 ],
 "metadata": {
  "kernelspec": {
   "display_name": "Python 3",
   "language": "python",
   "name": "python3"
  },
  "language_info": {
   "codemirror_mode": {
    "name": "ipython",
    "version": 3
   },
   "file_extension": ".py",
   "mimetype": "text/x-python",
   "name": "python",
   "nbconvert_exporter": "python",
   "pygments_lexer": "ipython3",
   "version": "3.10.13"
  }
 },
 "nbformat": 4,
 "nbformat_minor": 2
}
