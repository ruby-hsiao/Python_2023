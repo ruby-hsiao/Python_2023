{
 "cells": [
  {
   "cell_type": "code",
   "execution_count": 4,
   "metadata": {},
   "outputs": [
    {
     "name": "stdout",
     "output_type": "stream",
     "text": [
      "不做事\n",
      "3的平方是9\n",
      "輸入錯誤,請重新輸入\n",
      "9的平方是81\n",
      "應用程式結束\n"
     ]
    }
   ],
   "source": [
    "import pyinputplus as pyip\n",
    "\n",
    "#顯示:\n",
    "#奇數輸出平方\n",
    "#偶數不做任何動作\n",
    "#'q'就離開\n",
    "\n",
    "valueInt = 0\n",
    "while (True):\n",
    "    value = input(\"請輸入整數,輸入[q]離開:\")\n",
    "    if value == 'q':\n",
    "        break;\n",
    "    \n",
    "    try:\n",
    "        valueInt = int(value)\n",
    "    except:\n",
    "        print(\"輸入錯誤,請重新輸入\")\n",
    "        continue\n",
    "\n",
    "    if (valueInt % 2) == 1:\n",
    "        print(f\"{valueInt}的平方是{valueInt ** 2}\")\n",
    "    else:\n",
    "        print(\"不做事\")\n",
    "\n",
    "print(\"應用程式結束\")\n"
   ]
  },
  {
   "cell_type": "code",
   "execution_count": 3,
   "metadata": {},
   "outputs": [],
   "source": [
    "import random #標準函式庫\n",
    "import pyinputplus as pyip\n",
    "\n",
    "min = 1\n",
    "max = 100\n",
    "count = 0\n",
    "randomNum = random.randint(min, max)\n",
    "randomNum\n",
    "\n",
    "print(\"===========猜數字遊戲===========\")\n",
    "\n",
    "while True:\n",
    "    keyin = pyip.inputInt(f\"第{count}次, 猜數字範圍{min}~{max}:\", min=min, max=max)\n",
    "    count += 1\n",
    "    print(f\"{keyin}\")\n",
    "    if keyin == 0:\n",
    "        break;\n",
    "\n",
    "    if(keyin == randomNum):\n",
    "        print(\"賓果,猜對了! 答案是:{randomNum}\")\n",
    "        print(\"您一共猜了{count}次\")\n",
    "        break\n",
    "\n",
    "    elif(keyin < randomNum):\n",
    "        print(\"再大一點\")\n",
    "        min =  keyin + 1\n",
    "    elif(keyin > randomNum):\n",
    "        print(\"再小一點\")\n",
    "        max =  keyin - 1\n",
    "\n",
    "print(\"遊戲結束\")        "
   ]
  }
 ],
 "metadata": {
  "kernelspec": {
   "display_name": "Python 3",
   "language": "python",
   "name": "python3"
  },
  "language_info": {
   "codemirror_mode": {
    "name": "ipython",
    "version": 3
   },
   "file_extension": ".py",
   "mimetype": "text/x-python",
   "name": "python",
   "nbconvert_exporter": "python",
   "pygments_lexer": "ipython3",
   "version": "3.10.13"
  }
 },
 "nbformat": 4,
 "nbformat_minor": 2
}
