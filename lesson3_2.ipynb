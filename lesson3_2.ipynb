{
 "cells": [
  {
   "cell_type": "code",
   "execution_count": 1,
   "metadata": {},
   "outputs": [
    {
     "name": "stdout",
     "output_type": "stream",
     "text": [
      "This is TRUE block\n",
      "Adult!\n",
      "IF block end\n"
     ]
    }
   ],
   "source": [
    "# if else condition\n",
    "age = 21\n",
    "if age >= 18 :\n",
    "    print(\"This is TRUE block\")\n",
    "    print(\"Adult!\")\n",
    "else :\n",
    "    print(\"This is FALSE block\")\n",
    "    print(\"Underage!\")\n",
    "\n",
    "print(\"IF block end\")\n"
   ]
  }
 ],
 "metadata": {
  "kernelspec": {
   "display_name": "Python 3",
   "language": "python",
   "name": "python3"
  },
  "language_info": {
   "codemirror_mode": {
    "name": "ipython",
    "version": 3
   },
   "file_extension": ".py",
   "mimetype": "text/x-python",
   "name": "python",
   "nbconvert_exporter": "python",
   "pygments_lexer": "ipython3",
   "version": "3.10.13"
  }
 },
 "nbformat": 4,
 "nbformat_minor": 2
}
