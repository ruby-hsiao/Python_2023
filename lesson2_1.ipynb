{
 "cells": [
  {
   "cell_type": "code",
   "execution_count": 2,
   "metadata": {},
   "outputs": [
    {
     "data": {
      "text/plain": [
       "float"
      ]
     },
     "execution_count": 2,
     "metadata": {},
     "output_type": "execute_result"
    }
   ],
   "source": [
    "# python instance type\n",
    "type(\"test\")\n",
    "type('string test')\n",
    "type(5.123)\n",
    "type(False)"
   ]
  },
  {
   "cell_type": "code",
   "execution_count": 9,
   "metadata": {},
   "outputs": [
    {
     "ename": "TypeError",
     "evalue": "can only concatenate str (not \"int\") to str",
     "output_type": "error",
     "traceback": [
      "\u001b[0;31m---------------------------------------------------------------------------\u001b[0m",
      "\u001b[0;31mTypeError\u001b[0m                                 Traceback (most recent call last)",
      "\u001b[1;32m/workspaces/Python_2023/lesson2_1.ipynb Cell 2\u001b[0m line \u001b[0;36m5\n\u001b[1;32m      <a href='vscode-notebook-cell://codespaces%2Bimproved-space-bassoon-4jjg97rx6jj5cjvvw/workspaces/Python_2023/lesson2_1.ipynb#W1sdnNjb2RlLXJlbW90ZQ%3D%3D?line=2'>3</a>\u001b[0m \u001b[39m5.0\u001b[39m \u001b[39m+\u001b[39m \u001b[39m5.1\u001b[39m\n\u001b[1;32m      <a href='vscode-notebook-cell://codespaces%2Bimproved-space-bassoon-4jjg97rx6jj5cjvvw/workspaces/Python_2023/lesson2_1.ipynb#W1sdnNjb2RlLXJlbW90ZQ%3D%3D?line=3'>4</a>\u001b[0m \u001b[39m5\u001b[39m \u001b[39m+\u001b[39m \u001b[39m5.2\u001b[39m\n\u001b[0;32m----> <a href='vscode-notebook-cell://codespaces%2Bimproved-space-bassoon-4jjg97rx6jj5cjvvw/workspaces/Python_2023/lesson2_1.ipynb#W1sdnNjb2RlLXJlbW90ZQ%3D%3D?line=4'>5</a>\u001b[0m \u001b[39m\"\u001b[39;49m\u001b[39m5\u001b[39;49m\u001b[39m\"\u001b[39;49m \u001b[39m+\u001b[39;49m \u001b[39m5\u001b[39;49m\n",
      "\u001b[0;31mTypeError\u001b[0m: can only concatenate str (not \"int\") to str"
     ]
    }
   ],
   "source": [
    "# 2元運算\n",
    "5 + 5\n",
    "5.0 + 5.1\n",
    "5 + 5.2\n",
    "\"5\" + 5"
   ]
  },
  {
   "cell_type": "code",
   "execution_count": 16,
   "metadata": {},
   "outputs": [
    {
     "ename": "TypeError",
     "evalue": "int() can't convert non-string with explicit base",
     "output_type": "error",
     "traceback": [
      "\u001b[0;31m---------------------------------------------------------------------------\u001b[0m",
      "\u001b[0;31mTypeError\u001b[0m                                 Traceback (most recent call last)",
      "\u001b[1;32m/workspaces/Python_2023/lesson2_1.ipynb Cell 3\u001b[0m line \u001b[0;36m3\n\u001b[1;32m      <a href='vscode-notebook-cell://codespaces%2Bimproved-space-bassoon-4jjg97rx6jj5cjvvw/workspaces/Python_2023/lesson2_1.ipynb#W2sdnNjb2RlLXJlbW90ZQ%3D%3D?line=0'>1</a>\u001b[0m \u001b[39m# type change\u001b[39;00m\n\u001b[1;32m      <a href='vscode-notebook-cell://codespaces%2Bimproved-space-bassoon-4jjg97rx6jj5cjvvw/workspaces/Python_2023/lesson2_1.ipynb#W2sdnNjb2RlLXJlbW90ZQ%3D%3D?line=1'>2</a>\u001b[0m \u001b[39mint\u001b[39m(\u001b[39m\"\u001b[39m\u001b[39m5\u001b[39m\u001b[39m\"\u001b[39m) \u001b[39m+\u001b[39m \u001b[39m5\u001b[39m\n\u001b[0;32m----> <a href='vscode-notebook-cell://codespaces%2Bimproved-space-bassoon-4jjg97rx6jj5cjvvw/workspaces/Python_2023/lesson2_1.ipynb#W2sdnNjb2RlLXJlbW90ZQ%3D%3D?line=2'>3</a>\u001b[0m \u001b[39mint\u001b[39;49m(\u001b[39m1\u001b[39;49m,\u001b[39m2\u001b[39;49m) \u001b[39m+\u001b[39m \u001b[39m5\u001b[39m\n\u001b[1;32m      <a href='vscode-notebook-cell://codespaces%2Bimproved-space-bassoon-4jjg97rx6jj5cjvvw/workspaces/Python_2023/lesson2_1.ipynb#W2sdnNjb2RlLXJlbW90ZQ%3D%3D?line=3'>4</a>\u001b[0m \u001b[39mint\u001b[39m(\u001b[39m\"\u001b[39m\u001b[39m1\u001b[39m\u001b[39m\"\u001b[39m,\u001b[39m2\u001b[39m) \u001b[39m+\u001b[39m \u001b[39m5\u001b[39m\n",
      "\u001b[0;31mTypeError\u001b[0m: int() can't convert non-string with explicit base"
     ]
    }
   ],
   "source": [
    "# type change\n",
    "int(\"5\") + 5\n",
    "int(1,2) + 5\n",
    "int(\"1\",2) + 5"
   ]
  },
  {
   "cell_type": "code",
   "execution_count": 23,
   "metadata": {},
   "outputs": [
    {
     "data": {
      "text/plain": [
       "16"
      ]
     },
     "execution_count": 23,
     "metadata": {},
     "output_type": "execute_result"
    }
   ],
   "source": [
    "# math calculator\n",
    "4 * 7\n",
    "10 - 80\n",
    "7 / 2\n",
    "7 // 2\n",
    "4 % 2\n",
    "7 % 3\n",
    "2 ** 4"
   ]
  },
  {
   "cell_type": "code",
   "execution_count": 29,
   "metadata": {},
   "outputs": [
    {
     "data": {
      "text/plain": [
       "10"
      ]
     },
     "execution_count": 29,
     "metadata": {},
     "output_type": "execute_result"
    }
   ],
   "source": [
    "# variable\n",
    "n = 5 + 5 \n",
    "n\n",
    "n + 2\n",
    "n\n",
    "z = 2 * (1+2) ** 2 - 2 ** 2 * 2\n",
    "z"
   ]
  },
  {
   "cell_type": "code",
   "execution_count": 49,
   "metadata": {},
   "outputs": [
    {
     "name": "stdout",
     "output_type": "stream",
     "text": [
      "對邊: 25\n",
      "斜邊: 50\n",
      "弳度: 0.5235987755982989\n",
      "角度: 30.000000000000004\n",
      "對邊:25,斜邊:50\n",
      "弳度:25.000,角度:50.00\n"
     ]
    }
   ],
   "source": [
    "# triangle calculator\n",
    "import math # remember import \n",
    "s = 25\n",
    "s2 = 50\n",
    "# sin(弳度) = 對邊 / 斜邊\n",
    "s3 = math.asin(25/50)\n",
    "math.degrees(s3)\n",
    "# 弧度 = 弳度 * (180 / math.pi)\n",
    "s4 = math.asin(s/s2) * (180 / math.pi)\n",
    "print(\"對邊:\",s)\n",
    "print(\"斜邊:\", s2)\n",
    "print(\"弳度:\", s3)\n",
    "print(\"角度:\", s4)\n",
    "print(f\"對邊:{s},斜邊:{s2}\") # string format\n",
    "print(f\"弳度:{s:.3f},角度:{s2:.2f}\") #字串插補變數"
   ]
  },
  {
   "cell_type": "code",
   "execution_count": 51,
   "metadata": {},
   "outputs": [
    {
     "name": "stdout",
     "output_type": "stream",
     "text": [
      "對邊:30,斜邊:50\n",
      "弳度:0.64,角度:36.87\n"
     ]
    }
   ],
   "source": [
    "side = int(input(\"請輸入對邊(整數)\"))\n",
    "another_side = int(input(\"請輸入斜邊(整數)\"))\n",
    "\n",
    "radian = math.asin(side/another_side)\n",
    "degrees = math.degrees(radian)\n",
    "print(f\"對邊:{side},斜邊:{another_side}\")\n",
    "print(f\"弳度:{radian:.2f},角度:{degrees:.2f}\")"
   ]
  }
 ],
 "metadata": {
  "kernelspec": {
   "display_name": "Python 3",
   "language": "python",
   "name": "python3"
  },
  "language_info": {
   "codemirror_mode": {
    "name": "ipython",
    "version": 3
   },
   "file_extension": ".py",
   "mimetype": "text/x-python",
   "name": "python",
   "nbconvert_exporter": "python",
   "pygments_lexer": "ipython3",
   "version": "3.10.13"
  }
 },
 "nbformat": 4,
 "nbformat_minor": 2
}
