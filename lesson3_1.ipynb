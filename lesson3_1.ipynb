{
 "cells": [
  {
   "cell_type": "code",
   "execution_count": 6,
   "metadata": {},
   "outputs": [
    {
     "name": "stdout",
     "output_type": "stream",
     "text": [
      "value: 28\n",
      "value2: 28\n"
     ]
    }
   ],
   "source": [
    "# 標準差 standard deviation，縮寫SD，符號σ\n",
    "# 0, 5, 9, 14\n",
    "value = 0\n",
    "value += 5\n",
    "value += 9\n",
    "value += 14\n",
    "value / 4\n",
    "print(\"value:\", value)\n",
    "\n",
    "#5, 6, 8, 9\n",
    "value2 = 5\n",
    "value2 += 6\n",
    "value2 += 8\n",
    "value2 += 9\n",
    "value2 / 4\n",
    "print(\"value2:\", value2)\n"
   ]
  },
  {
   "cell_type": "code",
   "execution_count": 3,
   "metadata": {},
   "outputs": [
    {
     "name": "stdout",
     "output_type": "stream",
     "text": [
      "value1: 28\n",
      "value2: 28\n"
     ]
    }
   ],
   "source": []
  }
 ],
 "metadata": {
  "kernelspec": {
   "display_name": "Python 3",
   "language": "python",
   "name": "python3"
  },
  "language_info": {
   "codemirror_mode": {
    "name": "ipython",
    "version": 3
   },
   "file_extension": ".py",
   "mimetype": "text/x-python",
   "name": "python",
   "nbconvert_exporter": "python",
   "pygments_lexer": "ipython3",
   "version": "3.10.13"
  }
 },
 "nbformat": 4,
 "nbformat_minor": 2
}
