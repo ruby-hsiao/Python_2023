{
 "cells": [
  {
   "cell_type": "code",
   "execution_count": 38,
   "metadata": {},
   "outputs": [
    {
     "name": "stdout",
     "output_type": "stream",
     "text": [
      "<class 'int'>\n",
      "Final scores:105.0\n"
     ]
    }
   ],
   "source": [
    "# if else\n",
    "#學生總分為300\n",
    "#有些學生可以加分5%\n",
    "#如果加分完超過300,就以300分為上限\n",
    "#輸入超過300分,出現警告\n",
    "\n",
    "try:\n",
    "    scores = int(input(\"Input scores(max 300):\"))\n",
    "    if scores <= 300:\n",
    "        is_add = input(\"Qualify to add scores?(y or n)\")\n",
    "\n",
    "        # loop condition\n",
    "        if is_add == \"y\":\n",
    "            scores *= 1.05\n",
    "            if scores > 300:\n",
    "                scores = 300\n",
    "            \n",
    "        print(f\"Final scores:{scores}\")\n",
    "    else:\n",
    "        print(\"Scores up to 300 ><'\")\n",
    "except ValueError as err:\n",
    "    print(f\"Input error! ><' {err}\")\n",
    "except TypeError as err:\n",
    "    print(f\"Type error! ><' {err}\")\n",
    "except:\n",
    "    print(\"Unknow error.\")"
   ]
  },
  {
   "cell_type": "code",
   "execution_count": 46,
   "metadata": {},
   "outputs": [
    {
     "name": "stdout",
     "output_type": "stream",
     "text": [
      "Plus money:106.05000000000001\n"
     ]
    }
   ],
   "source": [
    "# raise ValueError & exception handle\n",
    "\n",
    "try:\n",
    "    money = int(input(\"Pls enter a number\"))\n",
    "    type(money)\n",
    "except ValueError:\n",
    "    print(\"Enter input error!\")\n",
    "else:\n",
    "    print(f\"Plus money:{money*1.05}\")      "
   ]
  },
  {
   "cell_type": "code",
   "execution_count": 45,
   "metadata": {},
   "outputs": [
    {
     "data": {
      "text/plain": [
       "int"
      ]
     },
     "execution_count": 45,
     "metadata": {},
     "output_type": "execute_result"
    }
   ],
   "source": [
    "money = int(input(\"Pls enter a number\"))\n",
    "type(money)"
   ]
  }
 ],
 "metadata": {
  "kernelspec": {
   "display_name": "Python 3",
   "language": "python",
   "name": "python3"
  },
  "language_info": {
   "codemirror_mode": {
    "name": "ipython",
    "version": 3
   },
   "file_extension": ".py",
   "mimetype": "text/x-python",
   "name": "python",
   "nbconvert_exporter": "python",
   "pygments_lexer": "ipython3",
   "version": "3.10.13"
  }
 },
 "nbformat": 4,
 "nbformat_minor": 2
}
